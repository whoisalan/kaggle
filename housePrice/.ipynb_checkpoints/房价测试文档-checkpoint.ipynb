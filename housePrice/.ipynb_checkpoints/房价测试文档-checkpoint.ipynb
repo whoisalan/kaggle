{
 "cells": [
  {
   "cell_type": "code",
   "execution_count": null,
   "metadata": {},
   "outputs": [],
   "source": [
    "import pandas as pd\n",
    "import numpy as np"
   ]
  },
  {
   "cell_type": "code",
   "execution_count": null,
   "metadata": {},
   "outputs": [],
   "source": [
    "train = pd.read_csv('train.csv')\n",
    "train.head()"
   ]
  },
  {
   "cell_type": "code",
   "execution_count": null,
   "metadata": {},
   "outputs": [],
   "source": [
    "test = pd.read_csv('test.csv')\n",
    "test.head()"
   ]
  },
  {
   "cell_type": "markdown",
   "metadata": {},
   "source": [
    "数值型和类别型分开处理"
   ]
  },
  {
   "cell_type": "code",
   "execution_count": null,
   "metadata": {},
   "outputs": [],
   "source": [
    "test.dtypes['Id']"
   ]
  },
  {
   "cell_type": "code",
   "execution_count": null,
   "metadata": {},
   "outputs": [],
   "source": [
    "num_columns = []\n",
    "cate_columns = []\n",
    "for column in test.columns:\n",
    "    if test.dtypes[column] != np.dtype('object'):\n",
    "        num_columns.append(column)\n",
    "    else:\n",
    "        cate_columns.append(column)\n",
    "print(num_columns)\n",
    "print(cate_columns)"
   ]
  },
  {
   "cell_type": "code",
   "execution_count": null,
   "metadata": {},
   "outputs": [],
   "source": [
    "label = train.pop('SalePrice')"
   ]
  },
  {
   "cell_type": "markdown",
   "metadata": {},
   "source": [
    "填充缺失"
   ]
  },
  {
   "cell_type": "code",
   "execution_count": null,
   "metadata": {},
   "outputs": [],
   "source": [
    "# 数值型用中值填充\n",
    "for column in num_columns:\n",
    "    train[column] = train[column].fillna(train[column].median())\n",
    "    test[column] = test[column].fillna(test[column].median())\n",
    "\n",
    "# # 类别型用最多的填充 # 线上0.13488\n",
    "# for column in cate_columns:\n",
    "#     train[column] = train[column].fillna(train[column].mode())\n",
    "#     test[column] = test[column].fillna(test[column].mode())\n",
    "    \n",
    "# 类别型填充'NaN' # 线上0.13436\n",
    "for column in cate_columns:\n",
    "    train[column] = train[column].fillna('NaN')\n",
    "    test[column] = test[column].fillna('NaN')"
   ]
  },
  {
   "cell_type": "markdown",
   "metadata": {},
   "source": [
    "类别型哑变量处理"
   ]
  },
  {
   "cell_type": "code",
   "execution_count": null,
   "metadata": {},
   "outputs": [],
   "source": [
    "data = pd.concat([train,test],axis=0) #训练集要和测试集放一起\n",
    "for column in cate_columns:\n",
    "    \n",
    "    t = pd.get_dummies(data[column],prefix=column)\n",
    "    train = pd.concat([train,t[:len(train)]],axis=1)\n",
    "    train.drop(column,axis=1,inplace=True)\n",
    "    \n",
    "    test = pd.concat([test,t[len(train):]],axis=1)\n",
    "    test.drop(column,axis=1,inplace=True)"
   ]
  },
  {
   "cell_type": "markdown",
   "metadata": {},
   "source": [
    "回归走起"
   ]
  },
  {
   "cell_type": "code",
   "execution_count": null,
   "metadata": {},
   "outputs": [],
   "source": [
    "from sklearn.linear_model import Lasso,LinearRegression,Ridge,ElasticNet,TheilSenRegressor,HuberRegressor,RANSACRegressor\n",
    "from sklearn.svm import SVR\n",
    "from sklearn.tree import DecisionTreeRegressor,ExtraTreeRegressor\n",
    "from sklearn.ensemble import AdaBoostRegressor,ExtraTreesRegressor,GradientBoostingRegressor,RandomForestRegressor\n",
    "from xgboost import XGBRegressor\n",
    "from sklearn.model_selection import train_test_split\n",
    "from sklearn.metrics import mean_squared_error\n",
    "import itertools"
   ]
  },
  {
   "cell_type": "code",
   "execution_count": null,
   "metadata": {},
   "outputs": [],
   "source": [
    "X_train, X_test, y_train, y_test = train_test_split(train, label, test_size=0.33, random_state=42)"
   ]
  },
  {
   "cell_type": "code",
   "execution_count": null,
   "metadata": {},
   "outputs": [],
   "source": [
    "regs = [\n",
    "    ['Lasso',Lasso()],\n",
    "    ['LinearRegression',LinearRegression()],\n",
    "    ['Ridge',Ridge()],\n",
    "    ['ElasticNet',ElasticNet()],\n",
    "    ['TheilSenRegressor',TheilSenRegressor()],\n",
    "    ['RANSACRegressor',RANSACRegressor()],\n",
    "    ['HuberRegressor',HuberRegressor()],\n",
    "    ['SVR',SVR(kernel='linear')],\n",
    "    ['DecisionTreeRegressor',DecisionTreeRegressor()],\n",
    "    ['ExtraTreeRegressor',ExtraTreeRegressor()],\n",
    "    ['AdaBoostRegressor',AdaBoostRegressor(n_estimators=150)],\n",
    "    ['ExtraTreesRegressor',ExtraTreesRegressor(n_estimators=150)],\n",
    "    ['GradientBoostingRegressor',GradientBoostingRegressor(n_estimators=150)],\n",
    "    ['RandomForestRegressor',RandomForestRegressor(n_estimators=150)],\n",
    "    ['XGBRegressor',XGBRegressor(n_estimators=150)],\n",
    "]"
   ]
  },
  {
   "cell_type": "code",
   "execution_count": null,
   "metadata": {},
   "outputs": [],
   "source": [
    "preds = []\n",
    "for reg_name,reg in regs:\n",
    "    print(reg_name)\n",
    "    reg.fit(X_train,y_train)\n",
    "    y_pred = reg.predict(X_test)\n",
    "    if np.sum(y_pred<0) > 0:\n",
    "        print('y_pred have',np.sum(y_pred<0),'negative values, we fill it with np.median(y_pred)')\n",
    "        y_pred[y_pred<0] = np.median(y_pred)\n",
    "    score = np.sqrt(mean_squared_error(np.log(y_test),np.log(y_pred)))\n",
    "    preds.append([reg_name,y_pred])"
   ]
  },
  {
   "cell_type": "code",
   "execution_count": null,
   "metadata": {
    "scrolled": true
   },
   "outputs": [],
   "source": [
    "final_results = []\n",
    "for comb_length in range(1,len(regs)+1):\n",
    "    print('Model Amount :',comb_length)\n",
    "    results = []\n",
    "    for comb in itertools.combinations(preds,comb_length):\n",
    "        pred_sum = 0\n",
    "        model_name = []\n",
    "        for reg_name,pred in comb:\n",
    "            pred_sum += pred\n",
    "            model_name.append(reg_name)\n",
    "        pred_sum /= comb_length\n",
    "        model_name = '+'.join(model_name)\n",
    "        score = np.sqrt(mean_squared_error(np.log(y_test),np.log(pred_sum)))\n",
    "        results.append([model_name,score])\n",
    "    results = sorted(results,key=lambda x:x[1])\n",
    "    for model_name,score in results:\n",
    "        print(model_name,score)\n",
    "    print()\n",
    "    final_results.append(results[0])"
   ]
  },
  {
   "cell_type": "code",
   "execution_count": null,
   "metadata": {},
   "outputs": [],
   "source": [
    "final_results = sorted(final_results,key=lambda x:x[1])\n",
    "for model_name,score in final_results:\n",
    "    print(model_name,score)"
   ]
  },
  {
   "cell_type": "markdown",
   "metadata": {},
   "source": [
    "最终输出"
   ]
  },
  {
   "cell_type": "code",
   "execution_count": null,
   "metadata": {},
   "outputs": [],
   "source": [
    "[b for b in zip(itertools.count(),[a[0] for a in regs])]"
   ]
  },
  {
   "cell_type": "code",
   "execution_count": null,
   "metadata": {},
   "outputs": [],
   "source": [
    "pred = np.mean(list(map(lambda x:regs[x][1].predict(test),[0,12,14])),axis=0)"
   ]
  },
  {
   "cell_type": "code",
   "execution_count": null,
   "metadata": {},
   "outputs": [],
   "source": [
    "sub = pd.DataFrame({'Id':test['Id'],'SalePrice':pred})\n",
    "sub.to_csv('submission_Universe_fillNaN.csv',index=None)"
   ]
  },
  {
   "cell_type": "code",
   "execution_count": null,
   "metadata": {},
   "outputs": [],
   "source": []
  }
 ],
 "metadata": {
  "kernelspec": {
   "display_name": "Python 3",
   "language": "python",
   "name": "python3"
  },
  "language_info": {
   "codemirror_mode": {
    "name": "ipython",
    "version": 3
   },
   "file_extension": ".py",
   "mimetype": "text/x-python",
   "name": "python",
   "nbconvert_exporter": "python",
   "pygments_lexer": "ipython3",
   "version": "3.7.0"
  }
 },
 "nbformat": 4,
 "nbformat_minor": 2
}
